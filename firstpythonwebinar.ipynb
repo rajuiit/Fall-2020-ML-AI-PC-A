{
  "nbformat": 4,
  "nbformat_minor": 0,
  "metadata": {
    "colab": {
      "name": "firstpythonwebinar.ipynb",
      "provenance": [],
      "authorship_tag": "ABX9TyObeu6Hi5shRKohYt4XQg1r",
      "include_colab_link": true
    },
    "kernelspec": {
      "name": "python3",
      "display_name": "Python 3"
    }
  },
  "cells": [
    {
      "cell_type": "markdown",
      "metadata": {
        "id": "view-in-github",
        "colab_type": "text"
      },
      "source": [
        "<a href=\"https://colab.research.google.com/github/rajuiit/Fall-2020-ML-AI-PC-A/blob/master/firstpythonwebinar.ipynb\" target=\"_parent\"><img src=\"https://colab.research.google.com/assets/colab-badge.svg\" alt=\"Open In Colab\"/></a>"
      ]
    },
    {
      "cell_type": "code",
      "metadata": {
        "colab": {
          "base_uri": "https://localhost:8080/"
        },
        "id": "YuoEXKfSdLLX",
        "outputId": "78d994bb-d41f-4491-e386-33123d5fc3a6"
      },
      "source": [
        "print(\"Hello World\");\n",
        "x=5;\n",
        "print(x);"
      ],
      "execution_count": null,
      "outputs": [
        {
          "output_type": "stream",
          "text": [
            "Hello World\n",
            "5\n"
          ],
          "name": "stdout"
        }
      ]
    },
    {
      "cell_type": "code",
      "metadata": {
        "colab": {
          "base_uri": "https://localhost:8080/"
        },
        "id": "D1ZzetdodicI",
        "outputId": "5ae115ab-deb3-4235-830f-a6863e97d0f6"
      },
      "source": [
        "print(x);"
      ],
      "execution_count": null,
      "outputs": [
        {
          "output_type": "stream",
          "text": [
            "5\n"
          ],
          "name": "stdout"
        }
      ]
    }
  ]
}